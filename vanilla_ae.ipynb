{
 "cells": [
  {
   "cell_type": "markdown",
   "metadata": {},
   "source": [
    "# Task 3.1: Training a Vanilla Autoencoder"
   ]
  },
  {
   "cell_type": "markdown",
   "metadata": {},
   "source": [
    "#### Imports"
   ]
  },
  {
   "cell_type": "code",
   "execution_count": 1,
   "metadata": {},
   "outputs": [],
   "source": [
    "from vanilla_ae_functions import *\n",
    "from data_collection import save_vector_representation"
   ]
  },
  {
   "cell_type": "markdown",
   "metadata": {},
   "source": [
    "#### Data Preparation"
   ]
  },
  {
   "cell_type": "code",
   "execution_count": 1,
   "metadata": {},
   "outputs": [],
   "source": [
    "dataset_path = \"GoogleNews-vectors-negative300.bin.gz\"\n",
    "all_vectors = load_input(dataset_path)"
   ]
  },
  {
   "cell_type": "code",
   "execution_count": 3,
   "metadata": {},
   "outputs": [],
   "source": [
    "unnorm_x_test, unnorm_x_val, unnorm_x_test = split_training_validation_test(all_vectors)"
   ]
  },
  {
   "cell_type": "code",
   "execution_count": 4,
   "metadata": {},
   "outputs": [],
   "source": [
    "x_train = normalise_pos_input(unnorm_x_test)"
   ]
  },
  {
   "cell_type": "code",
   "execution_count": 5,
   "metadata": {},
   "outputs": [],
   "source": [
    "# number of neurons at the input layer\n",
    "original_dim = 300  \n",
    "# hidden layer dimension\n",
    "hl_dim = 2"
   ]
  },
  {
   "cell_type": "markdown",
   "metadata": {},
   "source": [
    "#### Trial 1:\n",
    "We train a Vanilla Encoder, where both en- and decoder activation functions are relu and the number of epochs are 10."
   ]
  },
  {
   "cell_type": "code",
   "execution_count": 7,
   "metadata": {},
   "outputs": [
    {
     "name": "stdout",
     "output_type": "stream",
     "text": [
      "Epoch 1/5\n",
      "79/79 [==============================] - 1s 5ms/step - loss: 4.2952\n",
      "Epoch 2/5\n",
      "79/79 [==============================] - 0s 4ms/step - loss: 4.2009\n",
      "Epoch 3/5\n",
      "79/79 [==============================] - 0s 5ms/step - loss: 4.1937\n",
      "Epoch 4/5\n",
      "79/79 [==============================] - 0s 5ms/step - loss: 4.1917\n",
      "Epoch 5/5\n",
      "79/79 [==============================] - 0s 5ms/step - loss: 4.1908\n",
      "313/313 [==============================] - 1s 2ms/step\n"
     ]
    }
   ],
   "source": [
    "trial_1_ae = vanilla_ae(x_train, activation_decoder = 'relu', epochs = 5)\n",
    "trial_1_reconstr_data = trial_1_ae.predict(x_train)\n",
    "trial_1_mse = calculate_mse(x_train, trial_1_reconstr_data)"
   ]
  },
  {
   "cell_type": "markdown",
   "metadata": {},
   "source": [
    "#### Trial 2: \n",
    "We train a Vanilla Encoder, where both en- and decoder activation functions are relu and the number of epochs are 25."
   ]
  },
  {
   "cell_type": "code",
   "execution_count": 10,
   "metadata": {},
   "outputs": [
    {
     "name": "stdout",
     "output_type": "stream",
     "text": [
      "Epoch 1/25\n",
      "79/79 [==============================] - 1s 3ms/step - loss: 3.4033\n",
      "Epoch 2/25\n",
      "79/79 [==============================] - 0s 4ms/step - loss: 2.8563\n",
      "Epoch 3/25\n",
      "79/79 [==============================] - 0s 3ms/step - loss: 2.7936\n",
      "Epoch 4/25\n",
      "79/79 [==============================] - 0s 3ms/step - loss: 2.7757\n",
      "Epoch 5/25\n",
      "79/79 [==============================] - 0s 3ms/step - loss: 2.7673\n",
      "Epoch 6/25\n",
      "79/79 [==============================] - 0s 3ms/step - loss: 2.7625\n",
      "Epoch 7/25\n",
      "79/79 [==============================] - 0s 3ms/step - loss: 2.7597\n",
      "Epoch 8/25\n",
      "79/79 [==============================] - 0s 3ms/step - loss: 2.7580\n",
      "Epoch 9/25\n",
      "79/79 [==============================] - 0s 2ms/step - loss: 2.7569\n",
      "Epoch 10/25\n",
      "79/79 [==============================] - 0s 3ms/step - loss: 2.7562\n",
      "Epoch 11/25\n",
      "79/79 [==============================] - 0s 2ms/step - loss: 2.7558\n",
      "Epoch 12/25\n",
      "79/79 [==============================] - 0s 3ms/step - loss: 2.7554\n",
      "Epoch 13/25\n",
      "79/79 [==============================] - 0s 4ms/step - loss: 2.7552\n",
      "Epoch 14/25\n",
      "79/79 [==============================] - 0s 3ms/step - loss: 2.7549\n",
      "Epoch 15/25\n",
      "79/79 [==============================] - 0s 4ms/step - loss: 2.7548\n",
      "Epoch 16/25\n",
      "79/79 [==============================] - 0s 4ms/step - loss: 2.7546\n",
      "Epoch 17/25\n",
      "79/79 [==============================] - 0s 3ms/step - loss: 2.7545\n",
      "Epoch 18/25\n",
      "79/79 [==============================] - 0s 5ms/step - loss: 2.7544\n",
      "Epoch 19/25\n",
      "79/79 [==============================] - 0s 3ms/step - loss: 2.7543\n",
      "Epoch 20/25\n",
      "79/79 [==============================] - 0s 4ms/step - loss: 2.7542\n",
      "Epoch 21/25\n",
      "79/79 [==============================] - 0s 4ms/step - loss: 2.7541\n",
      "Epoch 22/25\n",
      "79/79 [==============================] - 0s 3ms/step - loss: 2.7541\n",
      "Epoch 23/25\n",
      "79/79 [==============================] - 0s 3ms/step - loss: 2.7540\n",
      "Epoch 24/25\n",
      "79/79 [==============================] - 0s 3ms/step - loss: 2.7540\n",
      "Epoch 25/25\n",
      "79/79 [==============================] - 0s 3ms/step - loss: 2.7540\n",
      "313/313 [==============================] - 1s 2ms/step\n"
     ]
    }
   ],
   "source": [
    "trial_2_ae = vanilla_ae(x_train, activation_decoder = 'relu', epochs = 25)\n",
    "trial_2_reconstr_data = trial_2_ae.predict(x_train)\n",
    "trial_2_mse = calculate_mse(x_train, trial_2_reconstr_data)"
   ]
  },
  {
   "cell_type": "markdown",
   "metadata": {},
   "source": [
    "#### Trial 3:\n",
    "We train a Vanilla Encoder, where both en- and decoder activation functions are relu and the number of epochs are 50."
   ]
  },
  {
   "cell_type": "code",
   "execution_count": 12,
   "metadata": {},
   "outputs": [
    {
     "name": "stdout",
     "output_type": "stream",
     "text": [
      "Epoch 1/50\n",
      "79/79 [==============================] - 1s 4ms/step - loss: 3.7527\n",
      "Epoch 2/50\n",
      "79/79 [==============================] - 0s 4ms/step - loss: 2.9407\n",
      "Epoch 3/50\n",
      "79/79 [==============================] - 0s 4ms/step - loss: 2.9075\n",
      "Epoch 4/50\n",
      "79/79 [==============================] - 0s 5ms/step - loss: 2.8963\n",
      "Epoch 5/50\n",
      "79/79 [==============================] - 0s 4ms/step - loss: 2.8899\n",
      "Epoch 6/50\n",
      "79/79 [==============================] - 0s 4ms/step - loss: 2.8859\n",
      "Epoch 7/50\n",
      "79/79 [==============================] - 0s 4ms/step - loss: 2.8834\n",
      "Epoch 8/50\n",
      "79/79 [==============================] - 0s 5ms/step - loss: 2.8818\n",
      "Epoch 9/50\n",
      "79/79 [==============================] - 0s 4ms/step - loss: 2.8807\n",
      "Epoch 10/50\n",
      "79/79 [==============================] - 0s 4ms/step - loss: 2.8800\n",
      "Epoch 11/50\n",
      "79/79 [==============================] - 0s 4ms/step - loss: 2.8795\n",
      "Epoch 12/50\n",
      "79/79 [==============================] - 0s 6ms/step - loss: 2.8792\n",
      "Epoch 13/50\n",
      "79/79 [==============================] - 0s 6ms/step - loss: 2.8790\n",
      "Epoch 14/50\n",
      "79/79 [==============================] - 0s 6ms/step - loss: 2.8788\n",
      "Epoch 15/50\n",
      "79/79 [==============================] - 0s 6ms/step - loss: 2.8787\n",
      "Epoch 16/50\n",
      "79/79 [==============================] - 0s 6ms/step - loss: 2.8787\n",
      "Epoch 17/50\n",
      "79/79 [==============================] - 0s 5ms/step - loss: 2.8786\n",
      "Epoch 18/50\n",
      "79/79 [==============================] - 0s 5ms/step - loss: 2.8785\n",
      "Epoch 19/50\n",
      "79/79 [==============================] - 0s 6ms/step - loss: 2.8785\n",
      "Epoch 20/50\n",
      "79/79 [==============================] - 0s 6ms/step - loss: 2.8785\n",
      "Epoch 21/50\n",
      "79/79 [==============================] - 0s 5ms/step - loss: 2.8784\n",
      "Epoch 22/50\n",
      "79/79 [==============================] - 0s 5ms/step - loss: 2.8784\n",
      "Epoch 23/50\n",
      "79/79 [==============================] - 1s 7ms/step - loss: 2.8784\n",
      "Epoch 24/50\n",
      "79/79 [==============================] - 1s 6ms/step - loss: 2.8783\n",
      "Epoch 25/50\n",
      "79/79 [==============================] - 0s 5ms/step - loss: 2.8783\n",
      "Epoch 26/50\n",
      "79/79 [==============================] - 0s 6ms/step - loss: 2.8783\n",
      "Epoch 27/50\n",
      "79/79 [==============================] - 0s 5ms/step - loss: 2.8783\n",
      "Epoch 28/50\n",
      "79/79 [==============================] - 0s 6ms/step - loss: 2.8783\n",
      "Epoch 29/50\n",
      "79/79 [==============================] - 1s 7ms/step - loss: 2.8782\n",
      "Epoch 30/50\n",
      "79/79 [==============================] - 1s 7ms/step - loss: 2.8782\n",
      "Epoch 31/50\n",
      "79/79 [==============================] - 0s 6ms/step - loss: 2.8782\n",
      "Epoch 32/50\n",
      "79/79 [==============================] - 0s 6ms/step - loss: 2.8782\n",
      "Epoch 33/50\n",
      "79/79 [==============================] - 1s 6ms/step - loss: 2.8782\n",
      "Epoch 34/50\n",
      "79/79 [==============================] - 0s 6ms/step - loss: 2.8782\n",
      "Epoch 35/50\n",
      "79/79 [==============================] - 0s 5ms/step - loss: 2.8782\n",
      "Epoch 36/50\n",
      "79/79 [==============================] - 0s 5ms/step - loss: 2.8782\n",
      "Epoch 37/50\n",
      "79/79 [==============================] - 0s 5ms/step - loss: 2.8782\n",
      "Epoch 38/50\n",
      "79/79 [==============================] - 0s 5ms/step - loss: 2.8782\n",
      "Epoch 39/50\n",
      "79/79 [==============================] - 0s 6ms/step - loss: 2.8782\n",
      "Epoch 40/50\n",
      "79/79 [==============================] - 0s 5ms/step - loss: 2.8781\n",
      "Epoch 41/50\n",
      "79/79 [==============================] - 0s 4ms/step - loss: 2.8781\n",
      "Epoch 42/50\n",
      "79/79 [==============================] - 0s 4ms/step - loss: 2.8781\n",
      "Epoch 43/50\n",
      "79/79 [==============================] - 0s 6ms/step - loss: 2.8781\n",
      "Epoch 44/50\n",
      "79/79 [==============================] - 0s 5ms/step - loss: 2.8781\n",
      "Epoch 45/50\n",
      "79/79 [==============================] - 0s 6ms/step - loss: 2.8781\n",
      "Epoch 46/50\n",
      "79/79 [==============================] - 0s 5ms/step - loss: 2.8781\n",
      "Epoch 47/50\n",
      "79/79 [==============================] - 0s 5ms/step - loss: 2.8781\n",
      "Epoch 48/50\n",
      "79/79 [==============================] - 0s 5ms/step - loss: 2.8781\n",
      "Epoch 49/50\n",
      "79/79 [==============================] - 0s 6ms/step - loss: 2.8781\n",
      "Epoch 50/50\n",
      "79/79 [==============================] - 1s 7ms/step - loss: 2.8781\n",
      "313/313 [==============================] - 1s 2ms/step\n"
     ]
    }
   ],
   "source": [
    "trial_3_ae = vanilla_ae(x_train, activation_decoder = 'relu', epochs = 50)\n",
    "trial_3_reconstr_data = trial_3_ae.predict(x_train)\n",
    "trial_3_mse = calculate_mse(x_train, trial_3_reconstr_data)"
   ]
  },
  {
   "cell_type": "code",
   "execution_count": 90,
   "metadata": {},
   "outputs": [],
   "source": [
    "# Used as Autoencoder later. Therefore it is saved.\n",
    "save_vector_representation(\"vanilla_ae_reconstructed_data\", trial_3_reconstr_data)"
   ]
  },
  {
   "cell_type": "markdown",
   "metadata": {},
   "source": [
    "#### Trial 4:\n",
    "We train a Vanilla Encoder, where the encoder activation function is relu, the decoder activation function is sigmoid and the number of epochs are 10."
   ]
  },
  {
   "cell_type": "code",
   "execution_count": 22,
   "metadata": {},
   "outputs": [
    {
     "name": "stdout",
     "output_type": "stream",
     "text": [
      "Epoch 1/10\n",
      "79/79 [==============================] - 1s 4ms/step - loss: 0.6912\n",
      "Epoch 2/10\n",
      "79/79 [==============================] - 0s 3ms/step - loss: 0.6881\n",
      "Epoch 3/10\n",
      "79/79 [==============================] - 0s 4ms/step - loss: 0.6861\n",
      "Epoch 4/10\n",
      "79/79 [==============================] - 0s 4ms/step - loss: 0.6849\n",
      "Epoch 5/10\n",
      "79/79 [==============================] - 0s 2ms/step - loss: 0.6840\n",
      "Epoch 6/10\n",
      "79/79 [==============================] - 0s 2ms/step - loss: 0.6834\n",
      "Epoch 7/10\n",
      "79/79 [==============================] - 0s 2ms/step - loss: 0.6831\n",
      "Epoch 8/10\n",
      "79/79 [==============================] - 0s 3ms/step - loss: 0.6828\n",
      "Epoch 9/10\n",
      "79/79 [==============================] - 0s 3ms/step - loss: 0.6826\n",
      "Epoch 10/10\n",
      "79/79 [==============================] - 0s 2ms/step - loss: 0.6825\n",
      "313/313 [==============================] - 1s 1ms/step\n"
     ]
    }
   ],
   "source": [
    "trial_4_ae = vanilla_ae(x_train, epochs = 10)\n",
    "trial_4_reconstr_data = trial_4_ae.predict(x_train)\n",
    "trial_4_mse = calculate_mse(x_train, trial_4_reconstr_data)"
   ]
  },
  {
   "cell_type": "markdown",
   "metadata": {},
   "source": [
    "#### Trial 5:\n",
    "We train a Vanilla Encoder, where the encoder activation function is relu, the decoder activation function is sigmoid and the number of epochs are 25."
   ]
  },
  {
   "cell_type": "code",
   "execution_count": 16,
   "metadata": {},
   "outputs": [
    {
     "name": "stdout",
     "output_type": "stream",
     "text": [
      "Epoch 1/25\n",
      "79/79 [==============================] - 1s 5ms/step - loss: 0.6912\n",
      "Epoch 2/25\n",
      "79/79 [==============================] - 0s 5ms/step - loss: 0.6881\n",
      "Epoch 3/25\n",
      "79/79 [==============================] - 0s 5ms/step - loss: 0.6861\n",
      "Epoch 4/25\n",
      "79/79 [==============================] - 0s 5ms/step - loss: 0.6848\n",
      "Epoch 5/25\n",
      "79/79 [==============================] - 0s 5ms/step - loss: 0.6840\n",
      "Epoch 6/25\n",
      "79/79 [==============================] - 0s 5ms/step - loss: 0.6834\n",
      "Epoch 7/25\n",
      "79/79 [==============================] - 0s 5ms/step - loss: 0.6831\n",
      "Epoch 8/25\n",
      "79/79 [==============================] - 0s 5ms/step - loss: 0.6828\n",
      "Epoch 9/25\n",
      "79/79 [==============================] - 0s 5ms/step - loss: 0.6826\n",
      "Epoch 10/25\n",
      "79/79 [==============================] - 0s 5ms/step - loss: 0.6825\n",
      "Epoch 11/25\n",
      "79/79 [==============================] - 1s 6ms/step - loss: 0.6825\n",
      "Epoch 12/25\n",
      "79/79 [==============================] - 0s 5ms/step - loss: 0.6824\n",
      "Epoch 13/25\n",
      "79/79 [==============================] - 0s 5ms/step - loss: 0.6824\n",
      "Epoch 14/25\n",
      "79/79 [==============================] - 0s 4ms/step - loss: 0.6824\n",
      "Epoch 15/25\n",
      "79/79 [==============================] - 0s 5ms/step - loss: 0.6823\n",
      "Epoch 16/25\n",
      "79/79 [==============================] - 0s 5ms/step - loss: 0.6823\n",
      "Epoch 17/25\n",
      "79/79 [==============================] - 0s 5ms/step - loss: 0.6823\n",
      "Epoch 18/25\n",
      "79/79 [==============================] - 0s 4ms/step - loss: 0.6823\n",
      "Epoch 19/25\n",
      "79/79 [==============================] - 0s 4ms/step - loss: 0.6823\n",
      "Epoch 20/25\n",
      "79/79 [==============================] - 0s 4ms/step - loss: 0.6823\n",
      "Epoch 21/25\n",
      "79/79 [==============================] - 0s 4ms/step - loss: 0.6823\n",
      "Epoch 22/25\n",
      "79/79 [==============================] - 0s 5ms/step - loss: 0.6823\n",
      "Epoch 23/25\n",
      "79/79 [==============================] - 0s 5ms/step - loss: 0.6823\n",
      "Epoch 24/25\n",
      "79/79 [==============================] - 0s 6ms/step - loss: 0.6823\n",
      "Epoch 25/25\n",
      "79/79 [==============================] - 0s 5ms/step - loss: 0.6823\n",
      "313/313 [==============================] - 1s 2ms/step\n"
     ]
    }
   ],
   "source": [
    "trial_5_ae = vanilla_ae(x_train, epochs = 25)\n",
    "trial_5_reconstr_data = trial_5_ae.predict(x_train)\n",
    "trial_5_mse = calculate_mse(x_train, trial_5_reconstr_data)"
   ]
  },
  {
   "cell_type": "markdown",
   "metadata": {},
   "source": [
    "#### Trial 6:\n",
    "We train a Vanilla Encoder, where the encoder activation function is relu, the decoder activation function is sigmoid and the number of epochs are 50."
   ]
  },
  {
   "cell_type": "code",
   "execution_count": 18,
   "metadata": {},
   "outputs": [
    {
     "name": "stdout",
     "output_type": "stream",
     "text": [
      "Epoch 1/50\n",
      "79/79 [==============================] - 1s 5ms/step - loss: 0.6912\n",
      "Epoch 2/50\n",
      "79/79 [==============================] - 0s 5ms/step - loss: 0.6881\n",
      "Epoch 3/50\n",
      "79/79 [==============================] - 0s 4ms/step - loss: 0.6861\n",
      "Epoch 4/50\n",
      "79/79 [==============================] - 0s 5ms/step - loss: 0.6849\n",
      "Epoch 5/50\n",
      "79/79 [==============================] - 0s 6ms/step - loss: 0.6840\n",
      "Epoch 6/50\n",
      "79/79 [==============================] - 1s 6ms/step - loss: 0.6834\n",
      "Epoch 7/50\n",
      "79/79 [==============================] - 0s 6ms/step - loss: 0.6831\n",
      "Epoch 8/50\n",
      "79/79 [==============================] - 0s 5ms/step - loss: 0.6828\n",
      "Epoch 9/50\n",
      "79/79 [==============================] - 0s 6ms/step - loss: 0.6826\n",
      "Epoch 10/50\n",
      "79/79 [==============================] - 0s 5ms/step - loss: 0.6825\n",
      "Epoch 11/50\n",
      "79/79 [==============================] - 0s 5ms/step - loss: 0.6825\n",
      "Epoch 12/50\n",
      "79/79 [==============================] - 0s 5ms/step - loss: 0.6824\n",
      "Epoch 13/50\n",
      "79/79 [==============================] - 0s 4ms/step - loss: 0.6824\n",
      "Epoch 14/50\n",
      "79/79 [==============================] - 0s 5ms/step - loss: 0.6824\n",
      "Epoch 15/50\n",
      "79/79 [==============================] - 1s 7ms/step - loss: 0.6823\n",
      "Epoch 16/50\n",
      "79/79 [==============================] - 0s 5ms/step - loss: 0.6823\n",
      "Epoch 17/50\n",
      "79/79 [==============================] - 0s 6ms/step - loss: 0.6823\n",
      "Epoch 18/50\n",
      "79/79 [==============================] - 0s 5ms/step - loss: 0.6823\n",
      "Epoch 19/50\n",
      "79/79 [==============================] - 0s 5ms/step - loss: 0.6823\n",
      "Epoch 20/50\n",
      "79/79 [==============================] - 1s 7ms/step - loss: 0.6823\n",
      "Epoch 21/50\n",
      "79/79 [==============================] - 0s 5ms/step - loss: 0.6823\n",
      "Epoch 22/50\n",
      "79/79 [==============================] - 0s 4ms/step - loss: 0.6823\n",
      "Epoch 23/50\n",
      "79/79 [==============================] - 0s 5ms/step - loss: 0.6823\n",
      "Epoch 24/50\n",
      "79/79 [==============================] - 0s 6ms/step - loss: 0.6823\n",
      "Epoch 25/50\n",
      "79/79 [==============================] - 0s 5ms/step - loss: 0.6823\n",
      "Epoch 26/50\n",
      "79/79 [==============================] - 1s 6ms/step - loss: 0.6823\n",
      "Epoch 27/50\n",
      "79/79 [==============================] - 0s 5ms/step - loss: 0.6823\n",
      "Epoch 28/50\n",
      "79/79 [==============================] - 0s 5ms/step - loss: 0.6823\n",
      "Epoch 29/50\n",
      "79/79 [==============================] - 0s 4ms/step - loss: 0.6823\n",
      "Epoch 30/50\n",
      "79/79 [==============================] - 0s 5ms/step - loss: 0.6823\n",
      "Epoch 31/50\n",
      "79/79 [==============================] - 0s 5ms/step - loss: 0.6823\n",
      "Epoch 32/50\n",
      "79/79 [==============================] - 0s 6ms/step - loss: 0.6823\n",
      "Epoch 33/50\n",
      "79/79 [==============================] - 0s 6ms/step - loss: 0.6823\n",
      "Epoch 34/50\n",
      "79/79 [==============================] - 0s 6ms/step - loss: 0.6823\n",
      "Epoch 35/50\n",
      "79/79 [==============================] - 0s 5ms/step - loss: 0.6823\n",
      "Epoch 36/50\n",
      "79/79 [==============================] - 0s 5ms/step - loss: 0.6823\n",
      "Epoch 37/50\n",
      "79/79 [==============================] - 0s 4ms/step - loss: 0.6823\n",
      "Epoch 38/50\n",
      "79/79 [==============================] - 0s 4ms/step - loss: 0.6823\n",
      "Epoch 39/50\n",
      "79/79 [==============================] - 0s 4ms/step - loss: 0.6823\n",
      "Epoch 40/50\n",
      "79/79 [==============================] - 0s 4ms/step - loss: 0.6823\n",
      "Epoch 41/50\n",
      "79/79 [==============================] - 0s 4ms/step - loss: 0.6823\n",
      "Epoch 42/50\n",
      "79/79 [==============================] - 1s 6ms/step - loss: 0.6823\n",
      "Epoch 43/50\n",
      "79/79 [==============================] - 0s 4ms/step - loss: 0.6823\n",
      "Epoch 44/50\n",
      "79/79 [==============================] - 0s 4ms/step - loss: 0.6823\n",
      "Epoch 45/50\n",
      "79/79 [==============================] - 0s 4ms/step - loss: 0.6823\n",
      "Epoch 46/50\n",
      "79/79 [==============================] - 0s 4ms/step - loss: 0.6823\n",
      "Epoch 47/50\n",
      "79/79 [==============================] - 0s 4ms/step - loss: 0.6823\n",
      "Epoch 48/50\n",
      "79/79 [==============================] - 0s 4ms/step - loss: 0.6823\n",
      "Epoch 49/50\n",
      "79/79 [==============================] - 0s 4ms/step - loss: 0.6823\n",
      "Epoch 50/50\n",
      "79/79 [==============================] - 0s 5ms/step - loss: 0.6823\n",
      "313/313 [==============================] - 1s 2ms/step\n"
     ]
    }
   ],
   "source": [
    "trial_6_ae = vanilla_ae(x_train, epochs = 50)\n",
    "trial_6_reconstr_data = trial_6_ae.predict(x_train)\n",
    "trial_6_mse = calculate_mse(x_train, trial_6_reconstr_data)"
   ]
  },
  {
   "cell_type": "markdown",
   "metadata": {},
   "source": [
    "#### Performing PCA "
   ]
  },
  {
   "cell_type": "code",
   "execution_count": null,
   "metadata": {},
   "outputs": [],
   "source": [
    "pca_data = perform_pca(2, trial_3_reconstr_data)"
   ]
  },
  {
   "cell_type": "code",
   "execution_count": 94,
   "metadata": {},
   "outputs": [],
   "source": [
    "# Save for later use.\n",
    "save_vector_representation(\"pca_of_reconstructed_data\", pca_data)"
   ]
  },
  {
   "cell_type": "markdown",
   "metadata": {},
   "source": [
    "# Task 4.1: Testing Vanilla Autoencoder on Large Self-created Dataset"
   ]
  },
  {
   "cell_type": "markdown",
   "metadata": {},
   "source": [
    "#### Imports"
   ]
  },
  {
   "cell_type": "code",
   "execution_count": 25,
   "metadata": {},
   "outputs": [],
   "source": [
    "from data_collection import run_whole_data_pipeline, run_whole_vectorisation_pipeline, open_list\n",
    "import gensim.downloader as api"
   ]
  },
  {
   "cell_type": "markdown",
   "metadata": {},
   "source": [
    "#### Creating the large self-created dataset\n",
    "Please note: we are saving the output vectors as files, as we would like to remember the output for easier access later."
   ]
  },
  {
   "cell_type": "code",
   "execution_count": 15,
   "metadata": {},
   "outputs": [],
   "source": [
    "base_link = \"https://www.dailymail.co.uk\"\n",
    "url_may_01 = f\"{base_link}/home/sitemaparchive/day_20230501.html\""
   ]
  },
  {
   "cell_type": "code",
   "execution_count": 2,
   "metadata": {},
   "outputs": [],
   "source": [
    "run_whole_data_pipeline(url_may_01, base_link, \"article_contents\")"
   ]
  },
  {
   "cell_type": "markdown",
   "metadata": {},
   "source": [
    "#### Vectorising the large self-created dataset"
   ]
  },
  {
   "cell_type": "code",
   "execution_count": 3,
   "metadata": {},
   "outputs": [],
   "source": [
    "articles_path = \"article_contents.pkl\"\n",
    "model = api.load('word2vec-google-news-300')\n",
    "vector_representation_path = \"normalised_vector_article.pkl\""
   ]
  },
  {
   "cell_type": "code",
   "execution_count": 7,
   "metadata": {},
   "outputs": [],
   "source": [
    "run_whole_vectorisation_pipeline(articles_path, model, vector_representation_path)"
   ]
  },
  {
   "cell_type": "markdown",
   "metadata": {},
   "source": [
    "#### Testing Vanilla Autoencoder with self-created dataset"
   ]
  },
  {
   "cell_type": "code",
   "execution_count": 98,
   "metadata": {},
   "outputs": [],
   "source": [
    "articles_list = open_list(\"normalised_vector_article\")"
   ]
  },
  {
   "cell_type": "code",
   "execution_count": 99,
   "metadata": {},
   "outputs": [],
   "source": [
    "# Save PCA for later use. \n",
    "pca_articles_list = perform_pca(2, articles_list)\n",
    "save_vector_representation(\"pca_of_normalised_vector_article\", pca_articles_list)"
   ]
  },
  {
   "cell_type": "code",
   "execution_count": 75,
   "metadata": {},
   "outputs": [
    {
     "name": "stdout",
     "output_type": "stream",
     "text": [
      "50/50 [==============================] - 0s 3ms/step\n"
     ]
    }
   ],
   "source": [
    "articles_prediction = trial_3_ae.predict(articles_list)"
   ]
  },
  {
   "cell_type": "code",
   "execution_count": 76,
   "metadata": {},
   "outputs": [],
   "source": [
    "mse_articles = calculate_mse(articles_list, articles_prediction)"
   ]
  },
  {
   "cell_type": "code",
   "execution_count": 89,
   "metadata": {},
   "outputs": [],
   "source": [
    "save_vector_representation(\"predicted_vector_article\", articles_prediction)"
   ]
  },
  {
   "cell_type": "code",
   "execution_count": 100,
   "metadata": {},
   "outputs": [],
   "source": [
    "# Save PCA for later use. \n",
    "pca_articles_prediction = perform_pca(2, articles_prediction)\n",
    "save_vector_representation(\"pca_of_predicted_vector_article\", articles_prediction)"
   ]
  }
 ],
 "metadata": {
  "kernelspec": {
   "display_name": "base",
   "language": "python",
   "name": "python3"
  },
  "language_info": {
   "codemirror_mode": {
    "name": "ipython",
    "version": 3
   },
   "file_extension": ".py",
   "mimetype": "text/x-python",
   "name": "python",
   "nbconvert_exporter": "python",
   "pygments_lexer": "ipython3",
   "version": "3.8.5"
  },
  "orig_nbformat": 4
 },
 "nbformat": 4,
 "nbformat_minor": 2
}
